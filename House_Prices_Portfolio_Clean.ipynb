{
 "cells": [
  {
   "cell_type": "markdown",
   "id": "524e2efd",
   "metadata": {},
   "source": [
    "# House Price Prediction - Adjusted as a Portfolio Project\n",
    "This project demonstrates data cleaning, regression modeling, and evaluation on the King County housing dataset.\n",
    "The project was part of the IBM data analytics course, now adjusted to fit for a portfolio  \n",
    "## Steps:\n",
    "1. Import libraries and load data\n",
    "2. Data cleaning\n",
    "3. Regression models\n",
    "4. Train-test split\n",
    "5. Ridge regression & polynomial features\n",
    "---"
   ]
  },
  {
   "cell_type": "markdown",
   "id": "00ca931c",
   "metadata": {},
   "source": [
    "## 1. Import Libraries and Load Data"
   ]
  },
  {
   "cell_type": "code",
   "execution_count": 28,
   "id": "5b164edc",
   "metadata": {},
   "outputs": [
    {
     "data": {
      "text/html": [
       "<div>\n",
       "<style scoped>\n",
       "    .dataframe tbody tr th:only-of-type {\n",
       "        vertical-align: middle;\n",
       "    }\n",
       "\n",
       "    .dataframe tbody tr th {\n",
       "        vertical-align: top;\n",
       "    }\n",
       "\n",
       "    .dataframe thead th {\n",
       "        text-align: right;\n",
       "    }\n",
       "</style>\n",
       "<table border=\"1\" class=\"dataframe\">\n",
       "  <thead>\n",
       "    <tr style=\"text-align: right;\">\n",
       "      <th></th>\n",
       "      <th>Unnamed: 0</th>\n",
       "      <th>id</th>\n",
       "      <th>date</th>\n",
       "      <th>price</th>\n",
       "      <th>bedrooms</th>\n",
       "      <th>bathrooms</th>\n",
       "      <th>sqft_living</th>\n",
       "      <th>sqft_lot</th>\n",
       "      <th>floors</th>\n",
       "      <th>waterfront</th>\n",
       "      <th>...</th>\n",
       "      <th>grade</th>\n",
       "      <th>sqft_above</th>\n",
       "      <th>sqft_basement</th>\n",
       "      <th>yr_built</th>\n",
       "      <th>yr_renovated</th>\n",
       "      <th>zipcode</th>\n",
       "      <th>lat</th>\n",
       "      <th>long</th>\n",
       "      <th>sqft_living15</th>\n",
       "      <th>sqft_lot15</th>\n",
       "    </tr>\n",
       "  </thead>\n",
       "  <tbody>\n",
       "    <tr>\n",
       "      <th>0</th>\n",
       "      <td>0</td>\n",
       "      <td>7129300520</td>\n",
       "      <td>20141013T000000</td>\n",
       "      <td>221900.0</td>\n",
       "      <td>3.0</td>\n",
       "      <td>1.00</td>\n",
       "      <td>1180</td>\n",
       "      <td>5650</td>\n",
       "      <td>1.0</td>\n",
       "      <td>0</td>\n",
       "      <td>...</td>\n",
       "      <td>7</td>\n",
       "      <td>1180</td>\n",
       "      <td>0</td>\n",
       "      <td>1955</td>\n",
       "      <td>0</td>\n",
       "      <td>98178</td>\n",
       "      <td>47.5112</td>\n",
       "      <td>-122.257</td>\n",
       "      <td>1340</td>\n",
       "      <td>5650</td>\n",
       "    </tr>\n",
       "    <tr>\n",
       "      <th>1</th>\n",
       "      <td>1</td>\n",
       "      <td>6414100192</td>\n",
       "      <td>20141209T000000</td>\n",
       "      <td>538000.0</td>\n",
       "      <td>3.0</td>\n",
       "      <td>2.25</td>\n",
       "      <td>2570</td>\n",
       "      <td>7242</td>\n",
       "      <td>2.0</td>\n",
       "      <td>0</td>\n",
       "      <td>...</td>\n",
       "      <td>7</td>\n",
       "      <td>2170</td>\n",
       "      <td>400</td>\n",
       "      <td>1951</td>\n",
       "      <td>1991</td>\n",
       "      <td>98125</td>\n",
       "      <td>47.7210</td>\n",
       "      <td>-122.319</td>\n",
       "      <td>1690</td>\n",
       "      <td>7639</td>\n",
       "    </tr>\n",
       "    <tr>\n",
       "      <th>2</th>\n",
       "      <td>2</td>\n",
       "      <td>5631500400</td>\n",
       "      <td>20150225T000000</td>\n",
       "      <td>180000.0</td>\n",
       "      <td>2.0</td>\n",
       "      <td>1.00</td>\n",
       "      <td>770</td>\n",
       "      <td>10000</td>\n",
       "      <td>1.0</td>\n",
       "      <td>0</td>\n",
       "      <td>...</td>\n",
       "      <td>6</td>\n",
       "      <td>770</td>\n",
       "      <td>0</td>\n",
       "      <td>1933</td>\n",
       "      <td>0</td>\n",
       "      <td>98028</td>\n",
       "      <td>47.7379</td>\n",
       "      <td>-122.233</td>\n",
       "      <td>2720</td>\n",
       "      <td>8062</td>\n",
       "    </tr>\n",
       "    <tr>\n",
       "      <th>3</th>\n",
       "      <td>3</td>\n",
       "      <td>2487200875</td>\n",
       "      <td>20141209T000000</td>\n",
       "      <td>604000.0</td>\n",
       "      <td>4.0</td>\n",
       "      <td>3.00</td>\n",
       "      <td>1960</td>\n",
       "      <td>5000</td>\n",
       "      <td>1.0</td>\n",
       "      <td>0</td>\n",
       "      <td>...</td>\n",
       "      <td>7</td>\n",
       "      <td>1050</td>\n",
       "      <td>910</td>\n",
       "      <td>1965</td>\n",
       "      <td>0</td>\n",
       "      <td>98136</td>\n",
       "      <td>47.5208</td>\n",
       "      <td>-122.393</td>\n",
       "      <td>1360</td>\n",
       "      <td>5000</td>\n",
       "    </tr>\n",
       "    <tr>\n",
       "      <th>4</th>\n",
       "      <td>4</td>\n",
       "      <td>1954400510</td>\n",
       "      <td>20150218T000000</td>\n",
       "      <td>510000.0</td>\n",
       "      <td>3.0</td>\n",
       "      <td>2.00</td>\n",
       "      <td>1680</td>\n",
       "      <td>8080</td>\n",
       "      <td>1.0</td>\n",
       "      <td>0</td>\n",
       "      <td>...</td>\n",
       "      <td>8</td>\n",
       "      <td>1680</td>\n",
       "      <td>0</td>\n",
       "      <td>1987</td>\n",
       "      <td>0</td>\n",
       "      <td>98074</td>\n",
       "      <td>47.6168</td>\n",
       "      <td>-122.045</td>\n",
       "      <td>1800</td>\n",
       "      <td>7503</td>\n",
       "    </tr>\n",
       "  </tbody>\n",
       "</table>\n",
       "<p>5 rows × 22 columns</p>\n",
       "</div>"
      ],
      "text/plain": [
       "   Unnamed: 0          id             date     price  bedrooms  bathrooms  \\\n",
       "0           0  7129300520  20141013T000000  221900.0       3.0       1.00   \n",
       "1           1  6414100192  20141209T000000  538000.0       3.0       2.25   \n",
       "2           2  5631500400  20150225T000000  180000.0       2.0       1.00   \n",
       "3           3  2487200875  20141209T000000  604000.0       4.0       3.00   \n",
       "4           4  1954400510  20150218T000000  510000.0       3.0       2.00   \n",
       "\n",
       "   sqft_living  sqft_lot  floors  waterfront  ...  grade  sqft_above  \\\n",
       "0         1180      5650     1.0           0  ...      7        1180   \n",
       "1         2570      7242     2.0           0  ...      7        2170   \n",
       "2          770     10000     1.0           0  ...      6         770   \n",
       "3         1960      5000     1.0           0  ...      7        1050   \n",
       "4         1680      8080     1.0           0  ...      8        1680   \n",
       "\n",
       "   sqft_basement  yr_built  yr_renovated  zipcode      lat     long  \\\n",
       "0              0      1955             0    98178  47.5112 -122.257   \n",
       "1            400      1951          1991    98125  47.7210 -122.319   \n",
       "2              0      1933             0    98028  47.7379 -122.233   \n",
       "3            910      1965             0    98136  47.5208 -122.393   \n",
       "4              0      1987             0    98074  47.6168 -122.045   \n",
       "\n",
       "   sqft_living15  sqft_lot15  \n",
       "0           1340        5650  \n",
       "1           1690        7639  \n",
       "2           2720        8062  \n",
       "3           1360        5000  \n",
       "4           1800        7503  \n",
       "\n",
       "[5 rows x 22 columns]"
      ]
     },
     "execution_count": 28,
     "metadata": {},
     "output_type": "execute_result"
    }
   ],
   "source": [
    "import pandas as pd\n",
    "import numpy as np\n",
    "from sklearn.linear_model import LinearRegression, Ridge\n",
    "from sklearn.preprocessing import StandardScaler, PolynomialFeatures\n",
    "from sklearn.pipeline import Pipeline\n",
    "from sklearn.model_selection import train_test_split\n",
    "from sklearn.metrics import r2_score\n",
    "\n",
    "file_name='https://cf-courses-data.s3.us.cloud-object-storage.appdomain.cloud/IBMDeveloperSkillsNetwork-DA0101EN-SkillsNetwork/labs/FinalModule_Coursera/data/kc_house_data_NaN.csv'\n",
    "df=pd.read_csv(file_name)\n",
    "df.head()"
   ]
  },
  {
   "cell_type": "markdown",
   "id": "4617b443",
   "metadata": {},
   "source": [
    "## 2. Data Cleaning"
   ]
  },
  {
   "cell_type": "code",
   "execution_count": 30,
   "id": "cc7b920f",
   "metadata": {},
   "outputs": [],
   "source": [
    "df.drop([\"id\", \"Unnamed: 0\"], axis=1, inplace=True)\n",
    "df.describe()\n",
    "\n",
    "mean = df['bedrooms'].mean()\n",
    "df['bedrooms'] = df['bedrooms'].replace(np.nan, mean)\n",
    "\n",
    "mean = df['bathrooms'].mean()\n",
    "df['bathrooms'] = df['bathrooms'].replace(np.nan, mean)\n"
   ]
  },
  {
   "cell_type": "markdown",
   "id": "07162695",
   "metadata": {},
   "source": [
    "## 3. Simple Linear Regression"
   ]
  },
  {
   "cell_type": "code",
   "execution_count": 87,
   "id": "19ace349",
   "metadata": {},
   "outputs": [
    {
     "name": "stdout",
     "output_type": "stream",
     "text": [
      "R²: 0.493\n"
     ]
    }
   ],
   "source": [
    "X = df[[\"sqft_living\"]]\n",
    "Y = df[\"price\"]\n",
    "lm = LinearRegression()\n",
    "lm.fit(X, Y)\n",
    "print(\"R²:\", round(lm.score(X, Y),3))"
   ]
  },
  {
   "cell_type": "markdown",
   "id": "be38773e",
   "metadata": {},
   "source": [
    "## 4. Multiple Linear Regression"
   ]
  },
  {
   "cell_type": "code",
   "execution_count": 83,
   "id": "16b7bc23",
   "metadata": {},
   "outputs": [
    {
     "name": "stdout",
     "output_type": "stream",
     "text": [
      "R²: 0.658\n"
     ]
    }
   ],
   "source": [
    "Z = df[[\"floors\", \"waterfront\", \"lat\", \"bedrooms\", \"sqft_basement\", \"view\", \"bathrooms\", \"sqft_living\", \"sqft_above\", \"grade\", \"sqft_living15\"]]\n",
    "lm1 = LinearRegression()\n",
    "lm1.fit(Z, Y)\n",
    "print(\"R²:\", round(lm1.score(Z, Y),3))"
   ]
  },
  {
   "cell_type": "markdown",
   "id": "e99e944e",
   "metadata": {},
   "source": [
    "## 5. Pipeline with Polynomial Features"
   ]
  },
  {
   "cell_type": "code",
   "execution_count": 79,
   "id": "da6deb4b",
   "metadata": {},
   "outputs": [
    {
     "name": "stdout",
     "output_type": "stream",
     "text": [
      "R²: 0.751\n"
     ]
    }
   ],
   "source": [
    "Input=[('scale', StandardScaler()), ('polynomial', PolynomialFeatures(include_bias=False)), ('model', LinearRegression())]\n",
    "pipe = Pipeline(Input)\n",
    "Z = Z.astype(float)\n",
    "pipe.fit(Z, Y)\n",
    "ypipe = pipe.predict(Z)\n",
    "print(\"R²:\", round(r2_score(Y, ypipe),3))"
   ]
  },
  {
   "cell_type": "markdown",
   "id": "5915f41a",
   "metadata": {},
   "source": [
    "## 6. Train-Test Split"
   ]
  },
  {
   "cell_type": "code",
   "execution_count": 41,
   "id": "fb9ba349",
   "metadata": {},
   "outputs": [
    {
     "data": {
      "text/plain": [
       "((18371, 389), (3242, 389))"
      ]
     },
     "execution_count": 41,
     "metadata": {},
     "output_type": "execute_result"
    }
   ],
   "source": [
    "X = df.drop(\"price\", axis=1)\n",
    "Y = df[\"price\"]\n",
    "\n",
    "X = pd.get_dummies(X, drop_first=True)\n",
    "\n",
    "X_train, X_test, Y_train, Y_test = train_test_split(X, Y, test_size=0.15, random_state=1)\n",
    "X_train.shape, X_test.shape"
   ]
  },
  {
   "cell_type": "markdown",
   "id": "214c4c4a",
   "metadata": {},
   "source": [
    "## 7. Ridge Regression"
   ]
  },
  {
   "cell_type": "code",
   "execution_count": 69,
   "id": "85ba340a",
   "metadata": {},
   "outputs": [
    {
     "name": "stdout",
     "output_type": "stream",
     "text": [
      "R²: 0.687\n"
     ]
    }
   ],
   "source": [
    "RidgeModel = Ridge(alpha=0.1)\n",
    "RidgeModel.fit(X_train, Y_train)\n",
    "yhat = RidgeModel.predict(X_test)\n",
    "print(\"R²:\",round(r2_score(Y_test, yhat),3))"
   ]
  },
  {
   "cell_type": "markdown",
   "id": "43cab343",
   "metadata": {},
   "source": [
    "## 8. Polynomial Transformation + Ridge Regression"
   ]
  },
  {
   "cell_type": "code",
   "execution_count": 65,
   "id": "2ec49016",
   "metadata": {},
   "outputs": [
    {
     "name": "stdout",
     "output_type": "stream",
     "text": [
      "Using polynomial on: ['sqft_living', 'bedrooms', 'bathrooms', 'floors', 'sqft_lot', 'grade']\n",
      "R²: 0.594\n"
     ]
    },
    {
     "name": "stderr",
     "output_type": "stream",
     "text": [
      "C:\\Users\\swart\\anaconda3\\Lib\\site-packages\\sklearn\\linear_model\\_ridge.py:216: LinAlgWarning: Ill-conditioned matrix (rcond=7.07613e-20): result may not be accurate.\n",
      "  return linalg.solve(A, Xy, assume_a=\"pos\", overwrite_a=True).T\n"
     ]
    }
   ],
   "source": [
    "##print('hello')\n",
    "##X_train_small = X_train.astype(\"float32\")\n",
    "##X_test_small  = X_test.astype(\"float32\")\n",
    "##pr = PolynomialFeatures(\n",
    "     ##degree=2, \n",
    "     ##include_bias = False, \n",
    "     ##interaction_only= True,\n",
    "##)\n",
    "##X_train_pr = pr.fit_transform(X_train_small)\n",
    "##X_test_pr = pr.transform(X_test_small)\n",
    "##RidgeModel.fit(X_train_pr, Y_train)\n",
    "##y_hat = RidgeModel.predict(X_test_pr)\n",
    "##r2_score(Y_test, y_hat)\n",
    "\n",
    "\n",
    "\n",
    "# === Memory-safe polynomial step (dthe above code runs into memory issues) ===\n",
    "\n",
    "candidates = [\"sqft_living\", \"bedrooms\", \"bathrooms\", \"floors\", \"sqft_lot\", \"grade\"]\n",
    "num_cols = [c for c in candidates if c in X_train.columns]\n",
    "\n",
    "\n",
    "Xtr = X_train[num_cols].astype(\"float32\")\n",
    "Xte = X_test[num_cols].astype(\"float32\")\n",
    "\n",
    "# Polynomial features on ONLY those columns (no bias term, interactions only).\n",
    "pr = PolynomialFeatures(degree=2, include_bias=False, interaction_only=True)\n",
    "Xtr_pr = pr.fit_transform(Xtr)\n",
    "Xte_pr = pr.transform(Xte)\n",
    "\n",
    "\n",
    "RidgeModel.fit(Xtr_pr, Y_train)\n",
    "y_hat = RidgeModel.predict(Xte_pr)\n",
    "print(\"Using polynomial on:\", num_cols)\n",
    "print(\"R²:\", round(r2_score(Y_test, y_hat),3))\n"
   ]
  },
  {
   "cell_type": "markdown",
   "id": "0fd0be56-2fc4-4808-a768-d3938dc072f7",
   "metadata": {},
   "source": [
    "##  Conclusions  \n",
    "\n",
    "### Baseline Model (Linear Regression with one feature)  \n",
    "- Established a simple baseline for prediction.  \n",
    "- Useful for understanding relationships but limited in accuracy.  \n",
    "\n",
    "### Multiple Linear Regression  \n",
    "- Adding more features improved the explanatory power of the model.  \n",
    "- Highlighted how additional predictors can reduce bias but may introduce collinearity.  \n",
    "\n",
    "### Ridge Regression  \n",
    "- Applied to handle multicollinearity and stabilize coefficients.  \n",
    "- Achieved better generalization compared to the plain linear regression.  \n",
    "\n",
    "### Polynomial Features + Ridge  \n",
    "- Explored non-linear relationships by expanding features.  \n",
    "- The model ran successfully, but produced a warning about an *ill-conditioned matrix*, which indicates that polynomial transformations can create highly correlated features.  \n",
    "- Ridge regularization helped mitigate this, but performance gains were modest, and computation became more resource-intensive.  \n",
    "\n",
    "\n",
    "\n",
    "## Key Takeaways  \n",
    "- Linear regression is easy to interpret but limited in predictive power.  \n",
    "- Ridge regression improves stability when features are correlated.  \n",
    "- Polynomial features add flexibility but can introduce serious computational and numerical challenges.  \n",
    "- In practice, careful feature selection and preprocessing are necessary before applying polynomial expansions at scale.  \n"
   ]
  },
  {
   "cell_type": "code",
   "execution_count": null,
   "id": "0c600323-8bbd-4823-adb2-b478cdb98a03",
   "metadata": {},
   "outputs": [],
   "source": []
  }
 ],
 "metadata": {
  "kernelspec": {
   "display_name": "Python [conda env:base] *",
   "language": "python",
   "name": "conda-base-py"
  },
  "language_info": {
   "codemirror_mode": {
    "name": "ipython",
    "version": 3
   },
   "file_extension": ".py",
   "mimetype": "text/x-python",
   "name": "python",
   "nbconvert_exporter": "python",
   "pygments_lexer": "ipython3",
   "version": "3.12.7"
  }
 },
 "nbformat": 4,
 "nbformat_minor": 5
}
